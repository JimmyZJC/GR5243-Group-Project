{
 "cells": [
  {
   "attachments": {},
   "cell_type": "markdown",
   "metadata": {},
   "source": [
    "# GR5243 Group Project 1\n",
    "##### Xingchen Ji, Yuting Wang, Hongyi Xu, and Jiacan Zhou"
   ]
  },
  {
   "attachments": {},
   "cell_type": "markdown",
   "metadata": {},
   "source": [
    "### Part 1. Library Importing and Data Loading"
   ]
  },
  {
   "cell_type": "code",
   "execution_count": 1,
   "metadata": {},
   "outputs": [],
   "source": [
    "import pandas as pd\n",
    "import numpy as np\n",
    "import seaborn as sns\n",
    "import matplotlib.pylab as plt\n",
    "sns.set_style('darkgrid')\n",
    "%matplotlib inline"
   ]
  },
  {
   "cell_type": "code",
   "execution_count": 2,
   "metadata": {},
   "outputs": [],
   "source": [
    "eta = pd.read_csv(\"../Data/RTA.csv\")"
   ]
  },
  {
   "attachments": {},
   "cell_type": "markdown",
   "metadata": {},
   "source": [
    "### Part 2. Explanatory Data Analysis\n",
    "#### (a) Response Variable"
   ]
  },
  {
   "cell_type": "code",
   "execution_count": 6,
   "metadata": {},
   "outputs": [
    {
     "data": {
      "text/plain": [
       "[Text(0.5, 1.0, 'Histogram of Accident Severity'),\n",
       " Text(0.5, 0, 'Accident Severity')]"
      ]
     },
     "execution_count": 6,
     "metadata": {},
     "output_type": "execute_result"
    },
    {
     "data": {
      "image/png": "[encoded data removed]",
      "text/plain": [
       "<Figure size 640x480 with 1 Axes>"
      ]
     },
     "metadata": {},
     "output_type": "display_data"
    }
   ],
   "source": [
    "eta[\"Accident_severity\"].value_counts()\n",
    "sns.histplot(eta[\"Accident_severity\"]).set(title = \"Histogram of Accident Severity\", xlabel = \"Accident Severity\")"
   ]
  },
  {
   "attachments": {},
   "cell_type": "markdown",
   "metadata": {},
   "source": [
    "#### (b) Data Cleaning and Feature Selection"
   ]
  },
  {
   "cell_type": "code",
   "execution_count": 8,
   "metadata": {},
   "outputs": [],
   "source": [
    "eta.drop([\"Service_year_of_vehicle\", \"Defect_of_vehicle\", \"Work_of_casuality\", \"Fitness_of_casuality\"], axis = 1, inplace = True)\n",
    "eta.drop([\"Time\", \"Weather_conditions\", \"Casualty_class\", \"Sex_of_casualty\", \"Age_band_of_casualty\", \"Casualty_severity\"], axis = 1, inplace = True)"
   ]
  },
  {
   "cell_type": "code",
   "execution_count": 9,
   "metadata": {},
   "outputs": [],
   "source": [
    "categorical = [col for col in eta.columns]\n",
    "categorical.remove(\"Number_of_vehicles_involved\")\n",
    "categorical.remove(\"Number_of_casualties\")\n",
    "numerical = [\"Number_of_vehicles_involved\", \"Number_of_casualties\"]"
   ]
  },
  {
   "cell_type": "code",
   "execution_count": 10,
   "metadata": {},
   "outputs": [
    {
     "data": {
      "text/plain": [
       "(8439, 22)"
      ]
     },
     "execution_count": 10,
     "metadata": {},
     "output_type": "execute_result"
    }
   ],
   "source": [
    "eta.dropna(subset = categorical, inplace = True)"
   ]
  },
  {
   "cell_type": "code",
   "execution_count": null,
   "metadata": {},
   "outputs": [],
   "source": [
    "from sklearn.ensemble import AdaBoostClassifier\n",
    "from sklearn.tree import DecisionTreeClassifier\n",
    "from sklearn.model_selection import train_test_split\n",
    "from sklearn.metrics import accuracy_score, confusion_matrix, classification_report\n",
    "ada = AdaBoostClassifier(DecisionTreeClassifier(max_depth = 1), n_estimators = 200)\n",
    "X = eta.drop(\"Accident_severity\", axis = 1)\n",
    "y = eta[\"Accident_severity\"]\n",
    "X_train, X_test, y_train, y_test = train_test_split(X, y, test_size = 0.2, random_state = 42)\n",
    "ada.fit(X_train, y_train)\n",
    "y_pred = ada.predict(X_test)\n",
    "print(\"Accuracy score: \", accuracy_score(y_test, y_pred))\n",
    "print(\"Confusion matrix: \", confusion_matrix(y_test, y_pred))\n",
    "print(\"Classification report: \", classification_report(y_test, y_pred))"
   ]
  },
  {
   "cell_type": "code",
   "execution_count": 13,
   "metadata": {},
   "outputs": [
    {
     "data": {
      "text/html": [
       "<div>\n",
       "<style scoped>\n",
       "    .dataframe tbody tr th:only-of-type {\n",
       "        vertical-align: middle;\n",
       "    }\n",
       "\n",
       "    .dataframe tbody tr th {\n",
       "        vertical-align: top;\n",
       "    }\n",
       "\n",
       "    .dataframe thead th {\n",
       "        text-align: right;\n",
       "    }\n",
       "</style>\n",
       "<table border=\"1\" class=\"dataframe\">\n",
       "  <thead>\n",
       "    <tr style=\"text-align: right;\">\n",
       "      <th></th>\n",
       "      <th>features</th>\n",
       "      <th>p_value</th>\n",
       "    </tr>\n",
       "  </thead>\n",
       "  <tbody>\n",
       "    <tr>\n",
       "      <th>2</th>\n",
       "      <td>Sex_of_driver</td>\n",
       "      <td>9.545031e-01</td>\n",
       "    </tr>\n",
       "    <tr>\n",
       "      <th>3</th>\n",
       "      <td>Educational_level</td>\n",
       "      <td>9.215860e-01</td>\n",
       "    </tr>\n",
       "    <tr>\n",
       "      <th>19</th>\n",
       "      <td>Pedestrian_movement</td>\n",
       "      <td>8.944739e-01</td>\n",
       "    </tr>\n",
       "    <tr>\n",
       "      <th>10</th>\n",
       "      <td>Road_allignment</td>\n",
       "      <td>8.699458e-01</td>\n",
       "    </tr>\n",
       "    <tr>\n",
       "      <th>11</th>\n",
       "      <td>Types_of_Junction</td>\n",
       "      <td>7.416229e-01</td>\n",
       "    </tr>\n",
       "    <tr>\n",
       "      <th>7</th>\n",
       "      <td>Owner_of_vehicle</td>\n",
       "      <td>5.527546e-01</td>\n",
       "    </tr>\n",
       "    <tr>\n",
       "      <th>20</th>\n",
       "      <td>Cause_of_accident</td>\n",
       "      <td>5.422320e-01</td>\n",
       "    </tr>\n",
       "    <tr>\n",
       "      <th>18</th>\n",
       "      <td>Vehicle_movement</td>\n",
       "      <td>4.428975e-01</td>\n",
       "    </tr>\n",
       "    <tr>\n",
       "      <th>13</th>\n",
       "      <td>Road_surface_conditions</td>\n",
       "      <td>4.216265e-01</td>\n",
       "    </tr>\n",
       "    <tr>\n",
       "      <th>0</th>\n",
       "      <td>Day_of_week</td>\n",
       "      <td>2.897207e-01</td>\n",
       "    </tr>\n",
       "    <tr>\n",
       "      <th>8</th>\n",
       "      <td>Area_accident_occured</td>\n",
       "      <td>2.741582e-01</td>\n",
       "    </tr>\n",
       "    <tr>\n",
       "      <th>4</th>\n",
       "      <td>Vehicle_driver_relation</td>\n",
       "      <td>2.158999e-01</td>\n",
       "    </tr>\n",
       "    <tr>\n",
       "      <th>9</th>\n",
       "      <td>Lanes_or_Medians</td>\n",
       "      <td>1.843369e-01</td>\n",
       "    </tr>\n",
       "    <tr>\n",
       "      <th>5</th>\n",
       "      <td>Driving_experience</td>\n",
       "      <td>1.755610e-01</td>\n",
       "    </tr>\n",
       "    <tr>\n",
       "      <th>6</th>\n",
       "      <td>Type_of_vehicle</td>\n",
       "      <td>1.646570e-01</td>\n",
       "    </tr>\n",
       "    <tr>\n",
       "      <th>1</th>\n",
       "      <td>Age_band_of_driver</td>\n",
       "      <td>5.548011e-02</td>\n",
       "    </tr>\n",
       "    <tr>\n",
       "      <th>12</th>\n",
       "      <td>Road_surface_type</td>\n",
       "      <td>1.056968e-02</td>\n",
       "    </tr>\n",
       "    <tr>\n",
       "      <th>14</th>\n",
       "      <td>Light_conditions</td>\n",
       "      <td>8.920666e-03</td>\n",
       "    </tr>\n",
       "    <tr>\n",
       "      <th>15</th>\n",
       "      <td>Type_of_collision</td>\n",
       "      <td>5.583430e-03</td>\n",
       "    </tr>\n",
       "    <tr>\n",
       "      <th>16</th>\n",
       "      <td>Number_of_vehicles_involved</td>\n",
       "      <td>4.522787e-04</td>\n",
       "    </tr>\n",
       "    <tr>\n",
       "      <th>17</th>\n",
       "      <td>Number_of_casualties</td>\n",
       "      <td>5.660602e-08</td>\n",
       "    </tr>\n",
       "  </tbody>\n",
       "</table>\n",
       "</div>"
      ],
      "text/plain": [
       "                       features       p_value\n",
       "2                 Sex_of_driver  9.545031e-01\n",
       "3             Educational_level  9.215860e-01\n",
       "19          Pedestrian_movement  8.944739e-01\n",
       "10              Road_allignment  8.699458e-01\n",
       "11            Types_of_Junction  7.416229e-01\n",
       "7              Owner_of_vehicle  5.527546e-01\n",
       "20            Cause_of_accident  5.422320e-01\n",
       "18             Vehicle_movement  4.428975e-01\n",
       "13      Road_surface_conditions  4.216265e-01\n",
       "0                   Day_of_week  2.897207e-01\n",
       "8         Area_accident_occured  2.741582e-01\n",
       "4       Vehicle_driver_relation  2.158999e-01\n",
       "9              Lanes_or_Medians  1.843369e-01\n",
       "5            Driving_experience  1.755610e-01\n",
       "6               Type_of_vehicle  1.646570e-01\n",
       "1            Age_band_of_driver  5.548011e-02\n",
       "12            Road_surface_type  1.056968e-02\n",
       "14             Light_conditions  8.920666e-03\n",
       "15            Type_of_collision  5.583430e-03\n",
       "16  Number_of_vehicles_involved  4.522787e-04\n",
       "17         Number_of_casualties  5.660602e-08"
      ]
     },
     "execution_count": 13,
     "metadata": {},
     "output_type": "execute_result"
    }
   ],
   "source": [
    "# from sklearn.feature_selection import chi2\n",
    "# from sklearn.feature_selection import SelectKBest\n",
    "# from sklearn.preprocessing import LabelEncoder\n",
    "\n",
    "# eta_chi = eta.copy()\n",
    "# for col in categorical:\n",
    "#     eta_chi[col] = LabelEncoder().fit_transform(eta_chi[col])\n",
    "# x_kbest = eta_chi.drop(\"Accident_severity\", inplace = False, axis = 1)\n",
    "# y_kbest = eta_chi[\"Accident_severity\"]\n",
    "# p_value = chi2(x_kbest, y_kbest)\n",
    "# p_value = pd.DataFrame({\"features\": x_kbest.columns, \"p_value\": p_value[1]}).sort_values(by = \"p_value\", ascending = False)\n",
    "# p_value"
   ]
  },
  {
   "cell_type": "code",
   "execution_count": 14,
   "metadata": {},
   "outputs": [
    {
     "data": {
      "text/plain": [
       "['Day_of_week',\n",
       " 'Age_band_of_driver',\n",
       " 'Educational_level',\n",
       " 'Vehicle_driver_relation',\n",
       " 'Driving_experience',\n",
       " 'Type_of_vehicle',\n",
       " 'Owner_of_vehicle',\n",
       " 'Area_accident_occured',\n",
       " 'Lanes_or_Medians',\n",
       " 'Road_allignment',\n",
       " 'Types_of_Junction',\n",
       " 'Road_surface_type',\n",
       " 'Road_surface_conditions',\n",
       " 'Light_conditions',\n",
       " 'Type_of_collision',\n",
       " 'Number_of_vehicles_involved',\n",
       " 'Number_of_casualties',\n",
       " 'Vehicle_movement',\n",
       " 'Pedestrian_movement',\n",
       " 'Cause_of_accident']"
      ]
     },
     "execution_count": 14,
     "metadata": {},
     "output_type": "execute_result"
    }
   ],
   "source": [
    "# chi2_selector = SelectKBest(chi2, k = 20)\n",
    "# chi2_selector.fit(x_kbest, y_kbest)\n",
    "# chi2_support = chi2_selector.get_support()\n",
    "# chi2_feature = x_kbest.loc[:, chi2_support].columns.tolist()\n",
    "# chi2_feature"
   ]
  },
  {
   "attachments": {},
   "cell_type": "markdown",
   "metadata": {},
   "source": [
    "#### (c) Preprocessing Dataset for ML Models"
   ]
  },
  {
   "cell_type": "code",
   "execution_count": 15,
   "metadata": {},
   "outputs": [
    {
     "data": {
      "text/html": [
       "<div>\n",
       "<style scoped>\n",
       "    .dataframe tbody tr th:only-of-type {\n",
       "        vertical-align: middle;\n",
       "    }\n",
       "\n",
       "    .dataframe tbody tr th {\n",
       "        vertical-align: top;\n",
       "    }\n",
       "\n",
       "    .dataframe thead th {\n",
       "        text-align: right;\n",
       "    }\n",
       "</style>\n",
       "<table border=\"1\" class=\"dataframe\">\n",
       "  <thead>\n",
       "    <tr style=\"text-align: right;\">\n",
       "      <th></th>\n",
       "      <th>Day_of_week</th>\n",
       "      <th>Age_band_of_driver</th>\n",
       "      <th>Educational_level</th>\n",
       "      <th>Vehicle_driver_relation</th>\n",
       "      <th>Driving_experience</th>\n",
       "      <th>Type_of_vehicle</th>\n",
       "      <th>Owner_of_vehicle</th>\n",
       "      <th>Area_accident_occured</th>\n",
       "      <th>Lanes_or_Medians</th>\n",
       "      <th>Road_allignment</th>\n",
       "      <th>Types_of_Junction</th>\n",
       "      <th>Road_surface_type</th>\n",
       "      <th>Road_surface_conditions</th>\n",
       "      <th>Light_conditions</th>\n",
       "      <th>Type_of_collision</th>\n",
       "      <th>Number_of_vehicles_involved</th>\n",
       "      <th>Number_of_casualties</th>\n",
       "      <th>Vehicle_movement</th>\n",
       "      <th>Pedestrian_movement</th>\n",
       "      <th>Cause_of_accident</th>\n",
       "    </tr>\n",
       "  </thead>\n",
       "  <tbody>\n",
       "    <tr>\n",
       "      <th>1</th>\n",
       "      <td>Monday</td>\n",
       "      <td>31-50</td>\n",
       "      <td>Junior high school</td>\n",
       "      <td>Employee</td>\n",
       "      <td>Above 10yr</td>\n",
       "      <td>Public (&gt; 45 seats)</td>\n",
       "      <td>Owner</td>\n",
       "      <td>Office areas</td>\n",
       "      <td>Undivided Two way</td>\n",
       "      <td>Tangent road with flat terrain</td>\n",
       "      <td>No junction</td>\n",
       "      <td>Asphalt roads</td>\n",
       "      <td>Dry</td>\n",
       "      <td>Daylight</td>\n",
       "      <td>Vehicle with vehicle collision</td>\n",
       "      <td>2</td>\n",
       "      <td>2</td>\n",
       "      <td>Going straight</td>\n",
       "      <td>Not a Pedestrian</td>\n",
       "      <td>Overtaking</td>\n",
       "    </tr>\n",
       "    <tr>\n",
       "      <th>3</th>\n",
       "      <td>Sunday</td>\n",
       "      <td>18-30</td>\n",
       "      <td>Junior high school</td>\n",
       "      <td>Employee</td>\n",
       "      <td>5-10yr</td>\n",
       "      <td>Public (&gt; 45 seats)</td>\n",
       "      <td>Governmental</td>\n",
       "      <td>Office areas</td>\n",
       "      <td>other</td>\n",
       "      <td>Tangent road with mild grade and flat terrain</td>\n",
       "      <td>Y Shape</td>\n",
       "      <td>Earth roads</td>\n",
       "      <td>Dry</td>\n",
       "      <td>Darkness - lights lit</td>\n",
       "      <td>Vehicle with vehicle collision</td>\n",
       "      <td>2</td>\n",
       "      <td>2</td>\n",
       "      <td>Going straight</td>\n",
       "      <td>Not a Pedestrian</td>\n",
       "      <td>Changing lane to the right</td>\n",
       "    </tr>\n",
       "    <tr>\n",
       "      <th>7</th>\n",
       "      <td>Friday</td>\n",
       "      <td>18-30</td>\n",
       "      <td>Junior high school</td>\n",
       "      <td>Employee</td>\n",
       "      <td>2-5yr</td>\n",
       "      <td>Automobile</td>\n",
       "      <td>Governmental</td>\n",
       "      <td>Residential areas</td>\n",
       "      <td>other</td>\n",
       "      <td>Tangent road with flat terrain</td>\n",
       "      <td>Y Shape</td>\n",
       "      <td>Asphalt roads</td>\n",
       "      <td>Dry</td>\n",
       "      <td>Daylight</td>\n",
       "      <td>Vehicle with vehicle collision</td>\n",
       "      <td>2</td>\n",
       "      <td>1</td>\n",
       "      <td>U-Turn</td>\n",
       "      <td>Not a Pedestrian</td>\n",
       "      <td>No priority to vehicle</td>\n",
       "    </tr>\n",
       "    <tr>\n",
       "      <th>8</th>\n",
       "      <td>Friday</td>\n",
       "      <td>18-30</td>\n",
       "      <td>Junior high school</td>\n",
       "      <td>Employee</td>\n",
       "      <td>Above 10yr</td>\n",
       "      <td>Lorry (41?100Q)</td>\n",
       "      <td>Owner</td>\n",
       "      <td>Industrial areas</td>\n",
       "      <td>other</td>\n",
       "      <td>Tangent road with flat terrain</td>\n",
       "      <td>Y Shape</td>\n",
       "      <td>Earth roads</td>\n",
       "      <td>Dry</td>\n",
       "      <td>Daylight</td>\n",
       "      <td>Collision with roadside-parked vehicles</td>\n",
       "      <td>2</td>\n",
       "      <td>1</td>\n",
       "      <td>Going straight</td>\n",
       "      <td>Crossing from driver's nearside</td>\n",
       "      <td>Changing lane to the right</td>\n",
       "    </tr>\n",
       "    <tr>\n",
       "      <th>9</th>\n",
       "      <td>Friday</td>\n",
       "      <td>18-30</td>\n",
       "      <td>Junior high school</td>\n",
       "      <td>Employee</td>\n",
       "      <td>1-2yr</td>\n",
       "      <td>Automobile</td>\n",
       "      <td>Owner</td>\n",
       "      <td>Residential areas</td>\n",
       "      <td>Undivided Two way</td>\n",
       "      <td>Tangent road with flat terrain</td>\n",
       "      <td>Y Shape</td>\n",
       "      <td>Asphalt roads</td>\n",
       "      <td>Dry</td>\n",
       "      <td>Daylight</td>\n",
       "      <td>Collision with roadside-parked vehicles</td>\n",
       "      <td>2</td>\n",
       "      <td>1</td>\n",
       "      <td>U-Turn</td>\n",
       "      <td>Not a Pedestrian</td>\n",
       "      <td>Moving Backward</td>\n",
       "    </tr>\n",
       "  </tbody>\n",
       "</table>\n",
       "</div>"
      ],
      "text/plain": [
       "  Day_of_week Age_band_of_driver   Educational_level Vehicle_driver_relation  \\\n",
       "1      Monday              31-50  Junior high school                Employee   \n",
       "3      Sunday              18-30  Junior high school                Employee   \n",
       "7      Friday              18-30  Junior high school                Employee   \n",
       "8      Friday              18-30  Junior high school                Employee   \n",
       "9      Friday              18-30  Junior high school                Employee   \n",
       "\n",
       "  Driving_experience      Type_of_vehicle Owner_of_vehicle  \\\n",
       "1         Above 10yr  Public (> 45 seats)            Owner   \n",
       "3             5-10yr  Public (> 45 seats)     Governmental   \n",
       "7              2-5yr           Automobile     Governmental   \n",
       "8         Above 10yr      Lorry (41?100Q)            Owner   \n",
       "9              1-2yr           Automobile            Owner   \n",
       "\n",
       "  Area_accident_occured   Lanes_or_Medians  \\\n",
       "1          Office areas  Undivided Two way   \n",
       "3          Office areas              other   \n",
       "7     Residential areas              other   \n",
       "8      Industrial areas              other   \n",
       "9     Residential areas  Undivided Two way   \n",
       "\n",
       "                                 Road_allignment Types_of_Junction  \\\n",
       "1                 Tangent road with flat terrain       No junction   \n",
       "3  Tangent road with mild grade and flat terrain           Y Shape   \n",
       "7                 Tangent road with flat terrain           Y Shape   \n",
       "8                 Tangent road with flat terrain           Y Shape   \n",
       "9                 Tangent road with flat terrain           Y Shape   \n",
       "\n",
       "  Road_surface_type Road_surface_conditions       Light_conditions  \\\n",
       "1     Asphalt roads                     Dry               Daylight   \n",
       "3       Earth roads                     Dry  Darkness - lights lit   \n",
       "7     Asphalt roads                     Dry               Daylight   \n",
       "8       Earth roads                     Dry               Daylight   \n",
       "9     Asphalt roads                     Dry               Daylight   \n",
       "\n",
       "                         Type_of_collision  Number_of_vehicles_involved  \\\n",
       "1           Vehicle with vehicle collision                            2   \n",
       "3           Vehicle with vehicle collision                            2   \n",
       "7           Vehicle with vehicle collision                            2   \n",
       "8  Collision with roadside-parked vehicles                            2   \n",
       "9  Collision with roadside-parked vehicles                            2   \n",
       "\n",
       "   Number_of_casualties Vehicle_movement              Pedestrian_movement  \\\n",
       "1                     2   Going straight                 Not a Pedestrian   \n",
       "3                     2   Going straight                 Not a Pedestrian   \n",
       "7                     1           U-Turn                 Not a Pedestrian   \n",
       "8                     1   Going straight  Crossing from driver's nearside   \n",
       "9                     1           U-Turn                 Not a Pedestrian   \n",
       "\n",
       "            Cause_of_accident  \n",
       "1                  Overtaking  \n",
       "3  Changing lane to the right  \n",
       "7      No priority to vehicle  \n",
       "8  Changing lane to the right  \n",
       "9             Moving Backward  "
      ]
     },
     "execution_count": 15,
     "metadata": {},
     "output_type": "execute_result"
    }
   ],
   "source": [
    "eta_new = eta[chi2_feature]\n",
    "eta_new.head()"
   ]
  },
  {
   "cell_type": "code",
   "execution_count": 17,
   "metadata": {},
   "outputs": [],
   "source": [
    "categorical_new = [col for col in eta_new.columns]\n",
    "categorical_new.remove(\"Number_of_vehicles_involved\")\n",
    "categorical_new.remove(\"Number_of_casualties\")\n",
    "numerical_new = [\"Number_of_vehicles_involved\", \"Number_of_casualties\"]"
   ]
  },
  {
   "cell_type": "code",
   "execution_count": 18,
   "metadata": {},
   "outputs": [
    {
     "name": "stderr",
     "output_type": "stream",
     "text": [
      "C:\\Users\\26447\\AppData\\Local\\Temp\\ipykernel_19780\\2399200865.py:3: SettingWithCopyWarning: \n",
      "A value is trying to be set on a copy of a slice from a DataFrame.\n",
      "Try using .loc[row_indexer,col_indexer] = value instead\n",
      "\n",
      "See the caveats in the documentation: https://pandas.pydata.org/pandas-docs/stable/user_guide/indexing.html#returning-a-view-versus-a-copy\n",
      "  eta_new[numerical_new] = scaler.fit_transform(eta_new[numerical_new])\n"
     ]
    },
    {
     "data": {
      "text/html": [
       "<div>\n",
       "<style scoped>\n",
       "    .dataframe tbody tr th:only-of-type {\n",
       "        vertical-align: middle;\n",
       "    }\n",
       "\n",
       "    .dataframe tbody tr th {\n",
       "        vertical-align: top;\n",
       "    }\n",
       "\n",
       "    .dataframe thead th {\n",
       "        text-align: right;\n",
       "    }\n",
       "</style>\n",
       "<table border=\"1\" class=\"dataframe\">\n",
       "  <thead>\n",
       "    <tr style=\"text-align: right;\">\n",
       "      <th></th>\n",
       "      <th>Number_of_vehicles_involved</th>\n",
       "      <th>Number_of_casualties</th>\n",
       "      <th>Day_of_week_Monday</th>\n",
       "      <th>Day_of_week_Saturday</th>\n",
       "      <th>Day_of_week_Sunday</th>\n",
       "      <th>Day_of_week_Thursday</th>\n",
       "      <th>Day_of_week_Tuesday</th>\n",
       "      <th>Day_of_week_Wednesday</th>\n",
       "      <th>Age_band_of_driver_31-50</th>\n",
       "      <th>Age_band_of_driver_Over 51</th>\n",
       "      <th>...</th>\n",
       "      <th>Cause_of_accident_No distancing</th>\n",
       "      <th>Cause_of_accident_No priority to pedestrian</th>\n",
       "      <th>Cause_of_accident_No priority to vehicle</th>\n",
       "      <th>Cause_of_accident_Other</th>\n",
       "      <th>Cause_of_accident_Overloading</th>\n",
       "      <th>Cause_of_accident_Overspeed</th>\n",
       "      <th>Cause_of_accident_Overtaking</th>\n",
       "      <th>Cause_of_accident_Overturning</th>\n",
       "      <th>Cause_of_accident_Turnover</th>\n",
       "      <th>Cause_of_accident_Unknown</th>\n",
       "    </tr>\n",
       "  </thead>\n",
       "  <tbody>\n",
       "    <tr>\n",
       "      <th>1</th>\n",
       "      <td>-0.055876</td>\n",
       "      <td>0.446105</td>\n",
       "      <td>1</td>\n",
       "      <td>0</td>\n",
       "      <td>0</td>\n",
       "      <td>0</td>\n",
       "      <td>0</td>\n",
       "      <td>0</td>\n",
       "      <td>1</td>\n",
       "      <td>0</td>\n",
       "      <td>...</td>\n",
       "      <td>0</td>\n",
       "      <td>0</td>\n",
       "      <td>0</td>\n",
       "      <td>0</td>\n",
       "      <td>0</td>\n",
       "      <td>0</td>\n",
       "      <td>1</td>\n",
       "      <td>0</td>\n",
       "      <td>0</td>\n",
       "      <td>0</td>\n",
       "    </tr>\n",
       "    <tr>\n",
       "      <th>3</th>\n",
       "      <td>-0.055876</td>\n",
       "      <td>0.446105</td>\n",
       "      <td>0</td>\n",
       "      <td>0</td>\n",
       "      <td>1</td>\n",
       "      <td>0</td>\n",
       "      <td>0</td>\n",
       "      <td>0</td>\n",
       "      <td>0</td>\n",
       "      <td>0</td>\n",
       "      <td>...</td>\n",
       "      <td>0</td>\n",
       "      <td>0</td>\n",
       "      <td>0</td>\n",
       "      <td>0</td>\n",
       "      <td>0</td>\n",
       "      <td>0</td>\n",
       "      <td>0</td>\n",
       "      <td>0</td>\n",
       "      <td>0</td>\n",
       "      <td>0</td>\n",
       "    </tr>\n",
       "    <tr>\n",
       "      <th>7</th>\n",
       "      <td>-0.055876</td>\n",
       "      <td>-0.539413</td>\n",
       "      <td>0</td>\n",
       "      <td>0</td>\n",
       "      <td>0</td>\n",
       "      <td>0</td>\n",
       "      <td>0</td>\n",
       "      <td>0</td>\n",
       "      <td>0</td>\n",
       "      <td>0</td>\n",
       "      <td>...</td>\n",
       "      <td>0</td>\n",
       "      <td>0</td>\n",
       "      <td>1</td>\n",
       "      <td>0</td>\n",
       "      <td>0</td>\n",
       "      <td>0</td>\n",
       "      <td>0</td>\n",
       "      <td>0</td>\n",
       "      <td>0</td>\n",
       "      <td>0</td>\n",
       "    </tr>\n",
       "    <tr>\n",
       "      <th>8</th>\n",
       "      <td>-0.055876</td>\n",
       "      <td>-0.539413</td>\n",
       "      <td>0</td>\n",
       "      <td>0</td>\n",
       "      <td>0</td>\n",
       "      <td>0</td>\n",
       "      <td>0</td>\n",
       "      <td>0</td>\n",
       "      <td>0</td>\n",
       "      <td>0</td>\n",
       "      <td>...</td>\n",
       "      <td>0</td>\n",
       "      <td>0</td>\n",
       "      <td>0</td>\n",
       "      <td>0</td>\n",
       "      <td>0</td>\n",
       "      <td>0</td>\n",
       "      <td>0</td>\n",
       "      <td>0</td>\n",
       "      <td>0</td>\n",
       "      <td>0</td>\n",
       "    </tr>\n",
       "    <tr>\n",
       "      <th>9</th>\n",
       "      <td>-0.055876</td>\n",
       "      <td>-0.539413</td>\n",
       "      <td>0</td>\n",
       "      <td>0</td>\n",
       "      <td>0</td>\n",
       "      <td>0</td>\n",
       "      <td>0</td>\n",
       "      <td>0</td>\n",
       "      <td>0</td>\n",
       "      <td>0</td>\n",
       "      <td>...</td>\n",
       "      <td>0</td>\n",
       "      <td>0</td>\n",
       "      <td>0</td>\n",
       "      <td>0</td>\n",
       "      <td>0</td>\n",
       "      <td>0</td>\n",
       "      <td>0</td>\n",
       "      <td>0</td>\n",
       "      <td>0</td>\n",
       "      <td>0</td>\n",
       "    </tr>\n",
       "  </tbody>\n",
       "</table>\n",
       "<p>5 rows × 137 columns</p>\n",
       "</div>"
      ],
      "text/plain": [
       "   Number_of_vehicles_involved  Number_of_casualties  Day_of_week_Monday  \\\n",
       "1                    -0.055876              0.446105                   1   \n",
       "3                    -0.055876              0.446105                   0   \n",
       "7                    -0.055876             -0.539413                   0   \n",
       "8                    -0.055876             -0.539413                   0   \n",
       "9                    -0.055876             -0.539413                   0   \n",
       "\n",
       "   Day_of_week_Saturday  Day_of_week_Sunday  Day_of_week_Thursday  \\\n",
       "1                     0                   0                     0   \n",
       "3                     0                   1                     0   \n",
       "7                     0                   0                     0   \n",
       "8                     0                   0                     0   \n",
       "9                     0                   0                     0   \n",
       "\n",
       "   Day_of_week_Tuesday  Day_of_week_Wednesday  Age_band_of_driver_31-50  \\\n",
       "1                    0                      0                         1   \n",
       "3                    0                      0                         0   \n",
       "7                    0                      0                         0   \n",
       "8                    0                      0                         0   \n",
       "9                    0                      0                         0   \n",
       "\n",
       "   Age_band_of_driver_Over 51  ...  Cause_of_accident_No distancing  \\\n",
       "1                           0  ...                                0   \n",
       "3                           0  ...                                0   \n",
       "7                           0  ...                                0   \n",
       "8                           0  ...                                0   \n",
       "9                           0  ...                                0   \n",
       "\n",
       "   Cause_of_accident_No priority to pedestrian  \\\n",
       "1                                            0   \n",
       "3                                            0   \n",
       "7                                            0   \n",
       "8                                            0   \n",
       "9                                            0   \n",
       "\n",
       "   Cause_of_accident_No priority to vehicle  Cause_of_accident_Other  \\\n",
       "1                                         0                        0   \n",
       "3                                         0                        0   \n",
       "7                                         1                        0   \n",
       "8                                         0                        0   \n",
       "9                                         0                        0   \n",
       "\n",
       "   Cause_of_accident_Overloading  Cause_of_accident_Overspeed  \\\n",
       "1                              0                            0   \n",
       "3                              0                            0   \n",
       "7                              0                            0   \n",
       "8                              0                            0   \n",
       "9                              0                            0   \n",
       "\n",
       "   Cause_of_accident_Overtaking  Cause_of_accident_Overturning  \\\n",
       "1                             1                              0   \n",
       "3                             0                              0   \n",
       "7                             0                              0   \n",
       "8                             0                              0   \n",
       "9                             0                              0   \n",
       "\n",
       "   Cause_of_accident_Turnover  Cause_of_accident_Unknown  \n",
       "1                           0                          0  \n",
       "3                           0                          0  \n",
       "7                           0                          0  \n",
       "8                           0                          0  \n",
       "9                           0                          0  \n",
       "\n",
       "[5 rows x 137 columns]"
      ]
     },
     "execution_count": 18,
     "metadata": {},
     "output_type": "execute_result"
    }
   ],
   "source": [
    "from sklearn.preprocessing import StandardScaler\n",
    "scaler = StandardScaler()\n",
    "eta_new[numerical_new] = scaler.fit_transform(eta_new[numerical_new])\n",
    "X = pd.get_dummies(eta_new, columns = categorical_new, drop_first = True)\n",
    "y = eta[\"Accident_severity\"]"
   ]
  },
  {
   "attachments": {},
   "cell_type": "markdown",
   "metadata": {},
   "source": [
    "#### (d) Synthetic Minority Oversampling Technique"
   ]
  },
  {
   "cell_type": "code",
   "execution_count": 19,
   "metadata": {},
   "outputs": [
    {
     "data": {
      "text/plain": [
       "Slight Injury     7169\n",
       "Serious Injury    7169\n",
       "Fatal injury      7169\n",
       "Name: Accident_severity, dtype: int64"
      ]
     },
     "execution_count": 19,
     "metadata": {},
     "output_type": "execute_result"
    }
   ],
   "source": [
    "from imblearn.over_sampling import SMOTE\n",
    "smote = SMOTE()\n",
    "X_smote, y_smote = smote.fit_resample(X, y)\n",
    "y_smote.value_counts()"
   ]
  },
  {
   "attachments": {},
   "cell_type": "markdown",
   "metadata": {},
   "source": [
    "#### (e) Data Spliting"
   ]
  },
  {
   "cell_type": "code",
   "execution_count": 20,
   "metadata": {},
   "outputs": [],
   "source": [
    "from sklearn.model_selection import train_test_split\n",
    "X_train, X_test, y_train, y_test = train_test_split(X_smote, y_smote, test_size = 0.3, random_state = 233)"
   ]
  },
  {
   "attachments": {},
   "cell_type": "markdown",
   "metadata": {},
   "source": [
    "### Part 3. Model Selection\n",
    "#### (a) SVM"
   ]
  },
  {
   "cell_type": "code",
   "execution_count": 22,
   "metadata": {},
   "outputs": [
    {
     "name": "stdout",
     "output_type": "stream",
     "text": [
      "Fitting 5 folds for each of 32 candidates, totalling 160 fits\n",
      "{'C': 10, 'gamma': 0.1, 'kernel': 'rbf'}\n",
      "SVC(C=10, gamma=0.1)\n",
      "Accuracy score:  0.9239113590578025\n",
      "Classification report:                  precision    recall  f1-score   support\n",
      "\n",
      "  Fatal injury       0.99      0.99      0.99      2169\n",
      "Serious Injury       0.93      0.85      0.89      2164\n",
      " Slight Injury       0.86      0.93      0.89      2120\n",
      "\n",
      "      accuracy                           0.92      6453\n",
      "     macro avg       0.93      0.92      0.92      6453\n",
      "  weighted avg       0.93      0.92      0.92      6453\n",
      "\n"
     ]
    },
    {
     "data": {
      "image/png": "[encoded data removed]",
      "text/plain": [
       "<Figure size 640x480 with 1 Axes>"
      ]
     },
     "metadata": {},
     "output_type": "display_data"
    }
   ],
   "source": [
    "from sklearn.metrics import accuracy_score\n",
    "from sklearn.metrics import confusion_matrix\n",
    "from sklearn.metrics import classification_report\n",
    "from sklearn.model_selection import GridSearchCV\n",
    "from sklearn.svm import SVC\n",
    "param_svc = {\"C\": [0.1, 1, 10, 100], \"gamma\": [1, 0.1, 0.01, 0.001], \"kernel\": [\"rbf\", \"linear\", \"poly\", \"sigmoid\"], \"degree\": [1, 2, 3, 4]}\n",
    "svc = GridSearchCV(SVC(), param_svc, refit = True, verbose = 3, n_jobs = 12)\n",
    "svc.fit(X_train, y_train)\n",
    "print(svc.best_params_)\n",
    "print(svc.best_estimator_)\n",
    "y_pred = svc.predict(X_test)\n",
    "print(\"Accuracy score: \", accuracy_score(y_test, y_pred))\n",
    "print(\"Classification report: \", classification_report(y_test, y_pred))\n",
    "mat = confusion_matrix(y_test, y_pred)\n",
    "sns.heatmap(mat.T, square = True, annot = True, fmt = \"d\", cbar = False, xticklabels = [\"Fatal\", \"Serious\", \"Slight\"], yticklabels = [\"Fatal\", \"Serious\", \"Slight\"])\n",
    "plt.xlabel(\"True Label\")\n",
    "plt.ylabel(\"Predicted Label\");"
   ]
  },
  {
   "attachments": {},
   "cell_type": "markdown",
   "metadata": {},
   "source": [
    "#### (b) Random Forest"
   ]
  },
  {
   "cell_type": "code",
   "execution_count": 25,
   "metadata": {},
   "outputs": [
    {
     "name": "stdout",
     "output_type": "stream",
     "text": [
      "Fitting 5 folds for each of 35 candidates, totalling 175 fits\n",
      "{'max_depth': 15, 'n_estimators': 400}\n",
      "RandomForestClassifier(max_depth=15, n_estimators=400)\n",
      "Accuracy score:  0.9057802572446924\n",
      "Classification report:                  precision    recall  f1-score   support\n",
      "\n",
      "  Fatal injury       0.94      0.98      0.96      2169\n",
      "Serious Injury       0.90      0.83      0.86      2164\n",
      " Slight Injury       0.87      0.91      0.89      2120\n",
      "\n",
      "      accuracy                           0.91      6453\n",
      "     macro avg       0.91      0.91      0.90      6453\n",
      "  weighted avg       0.91      0.91      0.90      6453\n",
      "\n"
     ]
    },
    {
     "data": {
      "image/png": "[encoded data removed]",
      "text/plain": [
       "<Figure size 640x480 with 1 Axes>"
      ]
     },
     "metadata": {},
     "output_type": "display_data"
    }
   ],
   "source": [
    "from sklearn.ensemble import RandomForestClassifier\n",
    "param_rfc = {\"n_estimators\": [100, 200, 300, 400, 500], \"max_depth\": [3, 5, 7, 9, 11, 13, 15], \"min_samples_split\": [2, 4, 6, 8, 10], \"min_samples_leaf\": [1, 2, 3, 4, 5]}\n",
    "rfc = GridSearchCV(RandomForestClassifier(), param_rfc, refit = True, verbose = 3, n_jobs = 12)\n",
    "rfc.fit(X_train, y_train)\n",
    "print(rfc.best_params_)\n",
    "print(rfc.best_estimator_)\n",
    "y_pred = rfc.predict(X_test)\n",
    "print(\"Accuracy score: \", accuracy_score(y_test, y_pred))\n",
    "print(\"Classification report: \", classification_report(y_test, y_pred))\n",
    "mat = confusion_matrix(y_test, y_pred)\n",
    "sns.heatmap(mat.T, square = True, annot = True, fmt = \"d\", cbar = False, xticklabels = [\"Fatal\", \"Serious\", \"Slight\"], yticklabels = [\"Fatal\", \"Serious\", \"Slight\"])\n",
    "plt.xlabel(\"True label\")\n",
    "plt.ylabel(\"Predicted label\");"
   ]
  },
  {
   "attachments": {},
   "cell_type": "markdown",
   "metadata": {},
   "source": [
    "#### (c) Multi-layer Perceptron"
   ]
  },
  {
   "cell_type": "code",
   "execution_count": null,
   "metadata": {},
   "outputs": [],
   "source": [
    "from sklearn.neural_network import MLPClassifier\n",
    "param_mlp = {\"hidden_layer_sizes\": [(100, 100, 100), (100, 100), (100, 100, 100, 100), (100, 100, 100, 100, 100)], \"activation\": [\"relu\", \"logistic\"], \"solver\": [\"adam\", \"sgd\"], \"alpha\": [0.0001, 0.05], \"learning_rate\": [\"constant\", \"adaptive\"]}\n",
    "mlp = GridSearchCV(MLPClassifier(), param_mlp, refit = True, verbose = 3, n_jobs = 12)\n",
    "mlp.fit(X_train, y_train)\n",
    "print(mlp.best_params_)\n",
    "print(mlp.best_estimator_)\n",
    "y_pred = mlp.predict(X_test)\n",
    "print(\"Accuracy score: \", accuracy_score(y_test, y_pred))\n",
    "print(\"Classification report: \", classification_report(y_test, y_pred))\n",
    "mat = confusion_matrix(y_test, y_pred)\n",
    "sns.heatmap(mat.T, square = True, annot = True, fmt = \"d\", cbar = False, xticklabels = [\"Fatal\", \"Serious\", \"Slight\"], yticklabels = [\"Fatal\", \"Serious\", \"Slight\"])\n",
    "plt.xlabel(\"True label\")\n",
    "plt.ylabel(\"Predicted label\");"
   ]
  },
  {
   "attachments": {},
   "cell_type": "markdown",
   "metadata": {},
   "source": [
    "#### (d)"
   ]
  },
  {
   "cell_type": "code",
   "execution_count": null,
   "metadata": {},
   "outputs": [],
   "source": []
  },
  {
   "cell_type": "code",
   "execution_count": null,
   "metadata": {},
   "outputs": [],
   "source": []
  },
  {
   "attachments": {},
   "cell_type": "markdown",
   "metadata": {},
   "source": [
    "### Part 4. Model Comparison"
   ]
  },
  {
   "cell_type": "code",
   "execution_count": 26,
   "metadata": {},
   "outputs": [
    {
     "data": {
      "text/html": [
       "<div>\n",
       "<style scoped>\n",
       "    .dataframe tbody tr th:only-of-type {\n",
       "        vertical-align: middle;\n",
       "    }\n",
       "\n",
       "    .dataframe tbody tr th {\n",
       "        vertical-align: top;\n",
       "    }\n",
       "\n",
       "    .dataframe thead th {\n",
       "        text-align: right;\n",
       "    }\n",
       "</style>\n",
       "<table border=\"1\" class=\"dataframe\">\n",
       "  <thead>\n",
       "    <tr style=\"text-align: right;\">\n",
       "      <th></th>\n",
       "      <th>Model</th>\n",
       "      <th>Accuracy</th>\n",
       "    </tr>\n",
       "  </thead>\n",
       "  <tbody>\n",
       "    <tr>\n",
       "      <th>1</th>\n",
       "      <td>Support Vector Machine</td>\n",
       "      <td>0.923911</td>\n",
       "    </tr>\n",
       "    <tr>\n",
       "      <th>3</th>\n",
       "      <td>Random Forest</td>\n",
       "      <td>0.905780</td>\n",
       "    </tr>\n",
       "    <tr>\n",
       "      <th>2</th>\n",
       "      <td>Decision Tree</td>\n",
       "      <td>0.818534</td>\n",
       "    </tr>\n",
       "    <tr>\n",
       "      <th>0</th>\n",
       "      <td>Naive Bayes</td>\n",
       "      <td>0.514644</td>\n",
       "    </tr>\n",
       "  </tbody>\n",
       "</table>\n",
       "</div>"
      ],
      "text/plain": [
       "                    Model  Accuracy\n",
       "1  Support Vector Machine  0.923911\n",
       "3           Random Forest  0.905780\n",
       "2           Decision Tree  0.818534\n",
       "0             Naive Bayes  0.514644"
      ]
     },
     "execution_count": 26,
     "metadata": {},
     "output_type": "execute_result"
    }
   ],
   "source": [
    "models = pd.DataFrame({\n",
    "    \"Model\": [\"Support Vector Machine\", \"Random Forest\"],\n",
    "    \"Accuracy\": [accuracy_score(y_test, svc.predict(X_test)), accuracy_score(y_test, rfc.predict(X_test))]})\n",
    "models.sort_values(by = \"Accuracy\", ascending = False)"
   ]
  },
  {
   "cell_type": "code",
   "execution_count": 27,
   "metadata": {},
   "outputs": [
    {
     "data": {
      "image/png": "[encoded data removed]",
      "text/plain": [
       "<Figure size 640x480 with 1 Axes>"
      ]
     },
     "metadata": {},
     "output_type": "display_data"
    }
   ],
   "source": [
    "ax = sns.barplot(x = \"Model\", y = \"Accuracy\", data = models.sort_values(by = \"Accuracy\", ascending = False))\n",
    "for acc in ax.containers:\n",
    "    ax.bar_label(acc, label_type = \"center\");"
   ]
  }
 ],
 "metadata": {
  "kernelspec": {
   "display_name": "text-mine",
   "language": "python",
   "name": "python3"
  },
  "language_info": {
   "codemirror_mode": {
    "name": "ipython",
    "version": 3
   },
   "file_extension": ".py",
   "mimetype": "text/x-python",
   "name": "python",
   "nbconvert_exporter": "python",
   "pygments_lexer": "ipython3",
   "version": "3.10.9"
  },
  "orig_nbformat": 4,
  "vscode": {
   "interpreter": {
    "hash": "7e3d6c2fd17c985616d208c207ad01a559fd73b1923d8aab6e801588cb03416b"
   }
  }
 },
 "nbformat": 4,
 "nbformat_minor": 2
}
